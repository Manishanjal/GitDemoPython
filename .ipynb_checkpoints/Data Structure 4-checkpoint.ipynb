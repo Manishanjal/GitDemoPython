{
 "cells": [
  {
   "cell_type": "markdown",
   "id": "837fc1fa",
   "metadata": {},
   "source": [
    "# Dictionaries"
   ]
  },
  {
   "cell_type": "markdown",
   "id": "4aea9804",
   "metadata": {},
   "source": [
    "A dictionary is a collection which is Unordered,changeable and indexed. in python dictionaries are written with curly brackets, and they keys and values"
   ]
  },
  {
   "cell_type": "code",
   "execution_count": 1,
   "id": "d83980f4",
   "metadata": {},
   "outputs": [],
   "source": [
    "# {key:Value}"
   ]
  },
  {
   "cell_type": "code",
   "execution_count": 2,
   "id": "c15cfaf3",
   "metadata": {},
   "outputs": [],
   "source": [
    "a={'apple':'green','banana':'yellow','cherry':'red'}"
   ]
  },
  {
   "cell_type": "code",
   "execution_count": 3,
   "id": "26ccf63d",
   "metadata": {},
   "outputs": [
    {
     "data": {
      "text/plain": [
       "{'apple': 'green', 'banana': 'yellow', 'cherry': 'red'}"
      ]
     },
     "execution_count": 3,
     "metadata": {},
     "output_type": "execute_result"
    }
   ],
   "source": [
    "a"
   ]
  },
  {
   "cell_type": "code",
   "execution_count": 4,
   "id": "b82f4125",
   "metadata": {},
   "outputs": [
    {
     "data": {
      "text/plain": [
       "dict"
      ]
     },
     "execution_count": 4,
     "metadata": {},
     "output_type": "execute_result"
    }
   ],
   "source": [
    "type(a)"
   ]
  },
  {
   "cell_type": "code",
   "execution_count": 5,
   "id": "af0a1e79",
   "metadata": {},
   "outputs": [
    {
     "ename": "KeyError",
     "evalue": "2",
     "output_type": "error",
     "traceback": [
      "\u001b[1;31m---------------------------------------------------------------------------\u001b[0m",
      "\u001b[1;31mKeyError\u001b[0m                                  Traceback (most recent call last)",
      "\u001b[1;32m<ipython-input-5-fc907be37984>\u001b[0m in \u001b[0;36m<module>\u001b[1;34m\u001b[0m\n\u001b[1;32m----> 1\u001b[1;33m \u001b[0ma\u001b[0m\u001b[1;33m[\u001b[0m\u001b[1;36m2\u001b[0m\u001b[1;33m]\u001b[0m\u001b[1;33m\u001b[0m\u001b[1;33m\u001b[0m\u001b[0m\n\u001b[0m",
      "\u001b[1;31mKeyError\u001b[0m: 2"
     ]
    }
   ],
   "source": [
    "a[2] # indexing not working"
   ]
  },
  {
   "cell_type": "code",
   "execution_count": 6,
   "id": "c5a7c769",
   "metadata": {},
   "outputs": [
    {
     "data": {
      "text/plain": [
       "'green'"
      ]
     },
     "execution_count": 6,
     "metadata": {},
     "output_type": "execute_result"
    }
   ],
   "source": [
    "a['apple']"
   ]
  },
  {
   "cell_type": "code",
   "execution_count": 7,
   "id": "4ca1c3fe",
   "metadata": {},
   "outputs": [
    {
     "data": {
      "text/plain": [
       "'yellow'"
      ]
     },
     "execution_count": 7,
     "metadata": {},
     "output_type": "execute_result"
    }
   ],
   "source": [
    "a['banana']"
   ]
  },
  {
   "cell_type": "code",
   "execution_count": 8,
   "id": "5f7d0ea0",
   "metadata": {},
   "outputs": [],
   "source": [
    "a['apple']='red'"
   ]
  },
  {
   "cell_type": "code",
   "execution_count": 9,
   "id": "8157c9fa",
   "metadata": {},
   "outputs": [
    {
     "data": {
      "text/plain": [
       "{'apple': 'red', 'banana': 'yellow', 'cherry': 'red'}"
      ]
     },
     "execution_count": 9,
     "metadata": {},
     "output_type": "execute_result"
    }
   ],
   "source": [
    "a"
   ]
  },
  {
   "cell_type": "code",
   "execution_count": 10,
   "id": "4ce8587e",
   "metadata": {},
   "outputs": [],
   "source": [
    "a['berry']='blue'"
   ]
  },
  {
   "cell_type": "code",
   "execution_count": 11,
   "id": "9f83273e",
   "metadata": {},
   "outputs": [
    {
     "data": {
      "text/plain": [
       "{'apple': 'red', 'banana': 'yellow', 'cherry': 'red', 'berry': 'blue'}"
      ]
     },
     "execution_count": 11,
     "metadata": {},
     "output_type": "execute_result"
    }
   ],
   "source": [
    "a"
   ]
  },
  {
   "cell_type": "code",
   "execution_count": 12,
   "id": "14d90a66",
   "metadata": {},
   "outputs": [],
   "source": [
    "del(a['berry'])"
   ]
  },
  {
   "cell_type": "code",
   "execution_count": 13,
   "id": "bc1b1847",
   "metadata": {},
   "outputs": [
    {
     "data": {
      "text/plain": [
       "{'apple': 'red', 'banana': 'yellow', 'cherry': 'red'}"
      ]
     },
     "execution_count": 13,
     "metadata": {},
     "output_type": "execute_result"
    }
   ],
   "source": [
    "a"
   ]
  },
  {
   "cell_type": "code",
   "execution_count": 14,
   "id": "e15a4550",
   "metadata": {},
   "outputs": [],
   "source": [
    "a={'class':[2,4,5,6,7,8,9],'age':[6,7,8,9,10,11,12]}"
   ]
  },
  {
   "cell_type": "code",
   "execution_count": 15,
   "id": "17a77d07",
   "metadata": {},
   "outputs": [
    {
     "data": {
      "text/plain": [
       "{'class': [2, 4, 5, 6, 7, 8, 9], 'age': [6, 7, 8, 9, 10, 11, 12]}"
      ]
     },
     "execution_count": 15,
     "metadata": {},
     "output_type": "execute_result"
    }
   ],
   "source": [
    "a"
   ]
  },
  {
   "cell_type": "code",
   "execution_count": 16,
   "id": "5cbd2aff",
   "metadata": {},
   "outputs": [
    {
     "data": {
      "text/plain": [
       "dict"
      ]
     },
     "execution_count": 16,
     "metadata": {},
     "output_type": "execute_result"
    }
   ],
   "source": [
    "type(a)"
   ]
  },
  {
   "cell_type": "code",
   "execution_count": 18,
   "id": "609e8e25",
   "metadata": {},
   "outputs": [
    {
     "data": {
      "text/plain": [
       "list"
      ]
     },
     "execution_count": 18,
     "metadata": {},
     "output_type": "execute_result"
    }
   ],
   "source": [
    "type(a['class'])"
   ]
  },
  {
   "cell_type": "code",
   "execution_count": 19,
   "id": "eab034a4",
   "metadata": {},
   "outputs": [
    {
     "data": {
      "text/plain": [
       "{'class': [2, 4, 5, 6, 7, 8, 9], 'age': [6, 7, 8, 9, 10, 11, 12]}"
      ]
     },
     "execution_count": 19,
     "metadata": {},
     "output_type": "execute_result"
    }
   ],
   "source": [
    "a"
   ]
  },
  {
   "cell_type": "code",
   "execution_count": 20,
   "id": "54a0c276",
   "metadata": {},
   "outputs": [
    {
     "ename": "AttributeError",
     "evalue": "'dict' object has no attribute 'append'",
     "output_type": "error",
     "traceback": [
      "\u001b[1;31m---------------------------------------------------------------------------\u001b[0m",
      "\u001b[1;31mAttributeError\u001b[0m                            Traceback (most recent call last)",
      "\u001b[1;32m<ipython-input-20-a39724ffcd65>\u001b[0m in \u001b[0;36m<module>\u001b[1;34m\u001b[0m\n\u001b[1;32m----> 1\u001b[1;33m \u001b[0ma\u001b[0m\u001b[1;33m.\u001b[0m\u001b[0mappend\u001b[0m\u001b[1;33m(\u001b[0m\u001b[1;36m4\u001b[0m\u001b[1;33m)\u001b[0m\u001b[1;33m\u001b[0m\u001b[1;33m\u001b[0m\u001b[0m\n\u001b[0m",
      "\u001b[1;31mAttributeError\u001b[0m: 'dict' object has no attribute 'append'"
     ]
    }
   ],
   "source": [
    "a.append(4) cant use directly"
   ]
  },
  {
   "cell_type": "code",
   "execution_count": 21,
   "id": "64a4e2f7",
   "metadata": {},
   "outputs": [],
   "source": [
    "a['class'].append(56)"
   ]
  },
  {
   "cell_type": "code",
   "execution_count": 22,
   "id": "df530288",
   "metadata": {},
   "outputs": [
    {
     "data": {
      "text/plain": [
       "{'class': [2, 4, 5, 6, 7, 8, 9, 56], 'age': [6, 7, 8, 9, 10, 11, 12]}"
      ]
     },
     "execution_count": 22,
     "metadata": {},
     "output_type": "execute_result"
    }
   ],
   "source": [
    "a"
   ]
  },
  {
   "cell_type": "code",
   "execution_count": 23,
   "id": "7ad194e9",
   "metadata": {},
   "outputs": [],
   "source": [
    "a['class'].remove(56)"
   ]
  },
  {
   "cell_type": "code",
   "execution_count": 24,
   "id": "301a2cc2",
   "metadata": {},
   "outputs": [
    {
     "data": {
      "text/plain": [
       "{'class': [2, 4, 5, 6, 7, 8, 9], 'age': [6, 7, 8, 9, 10, 11, 12]}"
      ]
     },
     "execution_count": 24,
     "metadata": {},
     "output_type": "execute_result"
    }
   ],
   "source": [
    "a"
   ]
  },
  {
   "cell_type": "code",
   "execution_count": 26,
   "id": "9e1ecf41",
   "metadata": {},
   "outputs": [],
   "source": [
    "a['class'].insert(5,18)"
   ]
  },
  {
   "cell_type": "code",
   "execution_count": 27,
   "id": "c9d9fa45",
   "metadata": {},
   "outputs": [
    {
     "data": {
      "text/plain": [
       "{'class': [2, 4, 5, 6, 7, 18, 8, 9], 'age': [6, 7, 8, 9, 10, 11, 12]}"
      ]
     },
     "execution_count": 27,
     "metadata": {},
     "output_type": "execute_result"
    }
   ],
   "source": [
    "a"
   ]
  },
  {
   "cell_type": "code",
   "execution_count": 29,
   "id": "e1509ede",
   "metadata": {},
   "outputs": [
    {
     "data": {
      "text/plain": [
       "1"
      ]
     },
     "execution_count": 29,
     "metadata": {},
     "output_type": "execute_result"
    }
   ],
   "source": [
    "a['class'].count(5)"
   ]
  },
  {
   "cell_type": "code",
   "execution_count": 30,
   "id": "ef2235eb",
   "metadata": {},
   "outputs": [],
   "source": [
    "b=[66,44,33,22,88]"
   ]
  },
  {
   "cell_type": "code",
   "execution_count": 31,
   "id": "14c78856",
   "metadata": {},
   "outputs": [],
   "source": [
    "a['class'].extend(b)"
   ]
  },
  {
   "cell_type": "code",
   "execution_count": 32,
   "id": "6e02fcc8",
   "metadata": {},
   "outputs": [
    {
     "data": {
      "text/plain": [
       "{'class': [2, 4, 5, 6, 7, 18, 8, 9, 66, 44, 33, 22, 88],\n",
       " 'age': [6, 7, 8, 9, 10, 11, 12]}"
      ]
     },
     "execution_count": 32,
     "metadata": {},
     "output_type": "execute_result"
    }
   ],
   "source": [
    "a"
   ]
  },
  {
   "cell_type": "code",
   "execution_count": 33,
   "id": "505fa530",
   "metadata": {},
   "outputs": [],
   "source": [
    "a['rating']=[111,333,4444,55555,5555455]"
   ]
  },
  {
   "cell_type": "code",
   "execution_count": 34,
   "id": "26933ad3",
   "metadata": {},
   "outputs": [
    {
     "data": {
      "text/plain": [
       "{'class': [2, 4, 5, 6, 7, 18, 8, 9, 66, 44, 33, 22, 88],\n",
       " 'age': [6, 7, 8, 9, 10, 11, 12],\n",
       " 'rating': [111, 333, 4444, 55555, 5555455]}"
      ]
     },
     "execution_count": 34,
     "metadata": {},
     "output_type": "execute_result"
    }
   ],
   "source": [
    "a"
   ]
  },
  {
   "cell_type": "code",
   "execution_count": null,
   "id": "0834812a",
   "metadata": {},
   "outputs": [],
   "source": []
  }
 ],
 "metadata": {
  "kernelspec": {
   "display_name": "Python 3",
   "language": "python",
   "name": "python3"
  },
  "language_info": {
   "codemirror_mode": {
    "name": "ipython",
    "version": 3
   },
   "file_extension": ".py",
   "mimetype": "text/x-python",
   "name": "python",
   "nbconvert_exporter": "python",
   "pygments_lexer": "ipython3",
   "version": "3.8.8"
  }
 },
 "nbformat": 4,
 "nbformat_minor": 5
}
