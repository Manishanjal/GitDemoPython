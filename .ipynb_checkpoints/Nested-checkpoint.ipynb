{
 "cells": [
  {
   "cell_type": "markdown",
   "id": "1a31b3e6",
   "metadata": {},
   "source": [
    "# Nested"
   ]
  },
  {
   "cell_type": "markdown",
   "id": "05a1f149",
   "metadata": {},
   "source": [
    "# Note:- if you need to check condition inside condition"
   ]
  },
  {
   "cell_type": "code",
   "execution_count": 4,
   "id": "1b1bedbd",
   "metadata": {},
   "outputs": [
    {
     "name": "stdout",
     "output_type": "stream",
     "text": [
      "enter the marks - 76\n",
      "c+,Good\n"
     ]
    }
   ],
   "source": [
    "a=int(input('enter the marks - '))\n",
    "if a>=90:\n",
    "    if a>98:\n",
    "        print('A+,excellent')\n",
    "    elif a>=96:\n",
    "        print('A+,Good')\n",
    "    elif a>=93:\n",
    "        print('A+,Best')\n",
    "    else:\n",
    "        print('A+')\n",
    "elif a>=80:\n",
    "    if a>88:\n",
    "        print('B+,excellent')\n",
    "    elif a>=86:\n",
    "        print('B+,Good')\n",
    "    elif a>=83:\n",
    "        print('B+,Best')\n",
    "    else:\n",
    "        print('B+')\n",
    "elif a>=70:\n",
    "    if a>78:\n",
    "        print('c+,excellent')\n",
    "    elif a>=76:\n",
    "        print('c+,Good')\n",
    "    elif a>=73:\n",
    "        print('c+,Best')\n",
    "    else:\n",
    "        print('c+')\n",
    "elif a>=60:\n",
    "    if a>68:\n",
    "        print('D+,excellent')\n",
    "    elif a>=66:\n",
    "        print('D+,Good')\n",
    "    elif a>=63:\n",
    "        print('D+,Best')\n",
    "    else:\n",
    "        print('D+')\n",
    "else:\n",
    "    print('fail')"
   ]
  },
  {
   "cell_type": "markdown",
   "id": "a709b1de",
   "metadata": {},
   "source": [
    "# if marks >=98 then asked classs and if class of the student is 5th then school topper other wise class tooper"
   ]
  },
  {
   "cell_type": "code",
   "execution_count": 16,
   "id": "5ebe546c",
   "metadata": {},
   "outputs": [
    {
     "name": "stdout",
     "output_type": "stream",
     "text": [
      "enter the marks - 99\n",
      "class of student - 8\n",
      "School Topper\n",
      "A+,Excellent\n"
     ]
    }
   ],
   "source": [
    "a=int(input('enter the marks - '))\n",
    "if a>=90:\n",
    "    if a>98:\n",
    "        b=int(input('class of student - '))\n",
    "        if b>=5:\n",
    "            print('School Topper')\n",
    "        else:\n",
    "            print('class topper')\n",
    "        print('A+,Excellent')\n",
    "    elif a>=96:\n",
    "        print('A+,Good')\n",
    "    elif a>=93:\n",
    "        print('A+,Best')\n",
    "    else:\n",
    "        print('A+')\n",
    "elif a>=80:\n",
    "    if a>88:\n",
    "        print('B+,excellent')\n",
    "    elif a>=86:\n",
    "        print('B+,Good')\n",
    "    elif a>=83:\n",
    "        print('B+,Best')\n",
    "    else:\n",
    "        print('B+')\n",
    "elif a>=70:\n",
    "    if a>78:\n",
    "        print('c+,excellent')\n",
    "    elif a>=76:\n",
    "        print('c+,Good')\n",
    "    elif a>=73:\n",
    "        print('c+,Best')\n",
    "    else:\n",
    "        print('c+')\n",
    "elif a>=60:\n",
    "    if a>68:\n",
    "        print('D+,excellent')\n",
    "    elif a>=66:\n",
    "        print('D+,Good')\n",
    "    elif a>=63:\n",
    "        print('D+,Best')\n",
    "    else:\n",
    "        print('D+')\n",
    "else:\n",
    "    print('fail')"
   ]
  },
  {
   "cell_type": "code",
   "execution_count": 22,
   "id": "f445bdc1",
   "metadata": {},
   "outputs": [
    {
     "name": "stdout",
     "output_type": "stream",
     "text": [
      "enter the marks - 99\n",
      "class of student - 8\n",
      "enter the name of student - Manish kumar\n",
      "State TOPPER\n",
      "A+,Excellent\n"
     ]
    }
   ],
   "source": [
    "a=int(input('enter the marks - '))\n",
    "if a>=90:\n",
    "    if a>98:\n",
    "        b=int(input('class of student - '))\n",
    "        if b>=5:\n",
    "            c=input('enter the name of student - ')\n",
    "            if c=='Manish kumar' or c=='harshita':\n",
    "                print('State TOPPER')\n",
    "            else:\n",
    "                print('School Topper')\n",
    "        else:\n",
    "            print('class topper')        \n",
    "        print('A+,Excellent')\n",
    "    elif a>=96:\n",
    "        print('A+,Good')\n",
    "    elif a>=93:\n",
    "        print('A+,Best')\n",
    "    else:\n",
    "        print('A+')\n",
    "elif a>=80:\n",
    "    if a>88:\n",
    "        print('B+,excellent')\n",
    "    elif a>=86:\n",
    "        print('B+,Good')\n",
    "    elif a>=83:\n",
    "        print('B+,Best')\n",
    "    else:\n",
    "        print('B+')\n",
    "elif a>=70:\n",
    "    if a>78:\n",
    "        print('c+,excellent')\n",
    "    elif a>=76:\n",
    "        print('c+,Good')\n",
    "    elif a>=73:\n",
    "        print('c+,Best')\n",
    "    else:\n",
    "        print('c+')\n",
    "elif a>=60:\n",
    "    if a>68:\n",
    "        print('D+,excellent')\n",
    "    elif a>=66:\n",
    "        print('D+,Good')\n",
    "    elif a>=63:\n",
    "        print('D+,Best')\n",
    "    else:\n",
    "        print('D+')\n",
    "else:\n",
    "    print('fail')"
   ]
  },
  {
   "cell_type": "code",
   "execution_count": null,
   "id": "5761a5ed",
   "metadata": {},
   "outputs": [],
   "source": []
  }
 ],
 "metadata": {
  "kernelspec": {
   "display_name": "Python 3",
   "language": "python",
   "name": "python3"
  },
  "language_info": {
   "codemirror_mode": {
    "name": "ipython",
    "version": 3
   },
   "file_extension": ".py",
   "mimetype": "text/x-python",
   "name": "python",
   "nbconvert_exporter": "python",
   "pygments_lexer": "ipython3",
   "version": "3.8.8"
  }
 },
 "nbformat": 4,
 "nbformat_minor": 5
}
