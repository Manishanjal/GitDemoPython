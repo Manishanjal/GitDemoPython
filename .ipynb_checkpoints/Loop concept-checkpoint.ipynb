{
 "cells": [
  {
   "cell_type": "markdown",
   "id": "f0e3dc81",
   "metadata": {},
   "source": [
    "# Loops"
   ]
  },
  {
   "cell_type": "markdown",
   "id": "e5afe89e",
   "metadata": {},
   "source": [
    "for\n",
    "while"
   ]
  },
  {
   "cell_type": "markdown",
   "id": "7b840fba",
   "metadata": {},
   "source": [
    "# Range"
   ]
  },
  {
   "cell_type": "code",
   "execution_count": 1,
   "id": "d0310163",
   "metadata": {},
   "outputs": [],
   "source": [
    "a=range(10)"
   ]
  },
  {
   "cell_type": "code",
   "execution_count": 2,
   "id": "ca4109bc",
   "metadata": {},
   "outputs": [
    {
     "data": {
      "text/plain": [
       "range(0, 10)"
      ]
     },
     "execution_count": 2,
     "metadata": {},
     "output_type": "execute_result"
    }
   ],
   "source": [
    "a"
   ]
  },
  {
   "cell_type": "code",
   "execution_count": 3,
   "id": "fe6e9afb",
   "metadata": {},
   "outputs": [],
   "source": [
    "a=range(2,20)"
   ]
  },
  {
   "cell_type": "code",
   "execution_count": 4,
   "id": "1aaff526",
   "metadata": {},
   "outputs": [
    {
     "data": {
      "text/plain": [
       "range(2, 20)"
      ]
     },
     "execution_count": 4,
     "metadata": {},
     "output_type": "execute_result"
    }
   ],
   "source": [
    "a"
   ]
  },
  {
   "cell_type": "code",
   "execution_count": 5,
   "id": "788a11cf",
   "metadata": {},
   "outputs": [],
   "source": [
    "a=range(2,20,3)"
   ]
  },
  {
   "cell_type": "code",
   "execution_count": 6,
   "id": "85bb3a8c",
   "metadata": {},
   "outputs": [
    {
     "data": {
      "text/plain": [
       "range(2, 20, 3)"
      ]
     },
     "execution_count": 6,
     "metadata": {},
     "output_type": "execute_result"
    }
   ],
   "source": [
    "a"
   ]
  },
  {
   "cell_type": "code",
   "execution_count": 7,
   "id": "776752da",
   "metadata": {},
   "outputs": [
    {
     "name": "stdout",
     "output_type": "stream",
     "text": [
      "0\n",
      "1\n",
      "2\n",
      "3\n",
      "4\n",
      "5\n",
      "6\n",
      "7\n",
      "8\n",
      "9\n"
     ]
    }
   ],
   "source": [
    "for i in range(10):\n",
    "    print(i)"
   ]
  },
  {
   "cell_type": "code",
   "execution_count": 8,
   "id": "32daf97b",
   "metadata": {},
   "outputs": [
    {
     "name": "stdout",
     "output_type": "stream",
     "text": [
      "2\n",
      "3\n",
      "4\n",
      "5\n",
      "6\n",
      "7\n",
      "8\n",
      "9\n",
      "10\n",
      "11\n",
      "12\n"
     ]
    }
   ],
   "source": [
    "for i in range(2,13):\n",
    "    print(i)"
   ]
  },
  {
   "cell_type": "code",
   "execution_count": 9,
   "id": "9b01a638",
   "metadata": {},
   "outputs": [
    {
     "name": "stdout",
     "output_type": "stream",
     "text": [
      "2\n",
      "5\n",
      "8\n",
      "11\n"
     ]
    }
   ],
   "source": [
    "for i in range(2,13,3):\n",
    "    print(i)"
   ]
  },
  {
   "cell_type": "code",
   "execution_count": 10,
   "id": "318a4128",
   "metadata": {},
   "outputs": [
    {
     "name": "stdout",
     "output_type": "stream",
     "text": [
      "[2, 3, 4, 5, 6, 7, 8, 9]\n",
      "[2, 3, 4, 5, 6, 7, 8, 9]\n",
      "[2, 3, 4, 5, 6, 7, 8, 9]\n",
      "[2, 3, 4, 5, 6, 7, 8, 9]\n",
      "[2, 3, 4, 5, 6, 7, 8, 9]\n",
      "[2, 3, 4, 5, 6, 7, 8, 9]\n",
      "[2, 3, 4, 5, 6, 7, 8, 9]\n",
      "[2, 3, 4, 5, 6, 7, 8, 9]\n"
     ]
    }
   ],
   "source": [
    "a=[2,3,4,5,6,7,8,9]\n",
    "for i in a:\n",
    "    print(a)"
   ]
  },
  {
   "cell_type": "code",
   "execution_count": 11,
   "id": "5e5720e2",
   "metadata": {},
   "outputs": [
    {
     "name": "stdout",
     "output_type": "stream",
     "text": [
      "[2, 3, 4, 5, 6, 7, 8, 9]\n",
      "2\n",
      "[2, 3, 4, 5, 6, 7, 8, 9]\n",
      "3\n",
      "[2, 3, 4, 5, 6, 7, 8, 9]\n",
      "4\n",
      "[2, 3, 4, 5, 6, 7, 8, 9]\n",
      "5\n",
      "[2, 3, 4, 5, 6, 7, 8, 9]\n",
      "6\n",
      "[2, 3, 4, 5, 6, 7, 8, 9]\n",
      "7\n",
      "[2, 3, 4, 5, 6, 7, 8, 9]\n",
      "8\n",
      "[2, 3, 4, 5, 6, 7, 8, 9]\n",
      "9\n"
     ]
    }
   ],
   "source": [
    "a=[2,3,4,5,6,7,8,9]\n",
    "for i in a:\n",
    "    print(a)\n",
    "    print(i)"
   ]
  },
  {
   "cell_type": "code",
   "execution_count": 12,
   "id": "ca17391a",
   "metadata": {},
   "outputs": [
    {
     "name": "stdout",
     "output_type": "stream",
     "text": [
      "2\n",
      "3\n",
      "4\n",
      "5\n",
      "6\n",
      "7\n",
      "8\n",
      "9\n",
      "[2, 3, 4, 5, 6, 7, 8, 9]\n"
     ]
    }
   ],
   "source": [
    "a=[2,3,4,5,6,7,8,9]\n",
    "for i in a:\n",
    "    print(i)\n",
    "print(a)"
   ]
  },
  {
   "cell_type": "code",
   "execution_count": 15,
   "id": "22a6e57d",
   "metadata": {},
   "outputs": [
    {
     "name": "stdout",
     "output_type": "stream",
     "text": [
      "0\n",
      "1\n",
      "2\n",
      "3\n",
      "4\n",
      "5\n",
      "6\n",
      "7\n"
     ]
    }
   ],
   "source": [
    "a=[2,3,4,5,6,7,8,9]\n",
    "for i in range(len(a)):\n",
    "    print(i)"
   ]
  },
  {
   "cell_type": "code",
   "execution_count": 16,
   "id": "2cdd2bef",
   "metadata": {},
   "outputs": [
    {
     "name": "stdout",
     "output_type": "stream",
     "text": [
      "2\n",
      "3\n",
      "4\n",
      "5\n",
      "6\n",
      "7\n",
      "8\n",
      "9\n"
     ]
    }
   ],
   "source": [
    "a=[2,3,4,5,6,7,8,9]\n",
    "for i in range(len(a)):\n",
    "    print(a[i])"
   ]
  },
  {
   "cell_type": "code",
   "execution_count": 18,
   "id": "b3d91077",
   "metadata": {},
   "outputs": [
    {
     "data": {
      "text/plain": [
       "8"
      ]
     },
     "execution_count": 18,
     "metadata": {},
     "output_type": "execute_result"
    }
   ],
   "source": [
    "len(a)"
   ]
  },
  {
   "cell_type": "code",
   "execution_count": 19,
   "id": "82fba87b",
   "metadata": {},
   "outputs": [
    {
     "data": {
      "text/plain": [
       "range(0, 8)"
      ]
     },
     "execution_count": 19,
     "metadata": {},
     "output_type": "execute_result"
    }
   ],
   "source": [
    "range(len(a))"
   ]
  },
  {
   "cell_type": "code",
   "execution_count": 21,
   "id": "556bab03",
   "metadata": {},
   "outputs": [
    {
     "name": "stdout",
     "output_type": "stream",
     "text": [
      "2\n",
      "3\n",
      "4\n",
      "5\n"
     ]
    }
   ],
   "source": [
    "a=[2,3,4,5,6,7,8,9]\n",
    "for i in range(4):\n",
    "    print(a[i])"
   ]
  },
  {
   "cell_type": "code",
   "execution_count": 22,
   "id": "1fde0c11",
   "metadata": {},
   "outputs": [],
   "source": [
    "# input \n",
    "a=[1,2,3,4]\n",
    "b=[5,6,7,8]\n",
    "#output=[6,8,10,12]"
   ]
  },
  {
   "cell_type": "code",
   "execution_count": 13,
   "id": "172b138e",
   "metadata": {},
   "outputs": [
    {
     "name": "stdout",
     "output_type": "stream",
     "text": [
      "[6, 8, 10, 12]\n"
     ]
    }
   ],
   "source": [
    "a=[1,2,3,4]\n",
    "b=[5,6,7,8]\n",
    "d=[]\n",
    "for i in range(len(a)):\n",
    "    c=(a[i]+b[i])\n",
    "    d.append(c)\n",
    "print(d)\n",
    "        "
   ]
  },
  {
   "cell_type": "code",
   "execution_count": 36,
   "id": "65edb9a7",
   "metadata": {},
   "outputs": [
    {
     "name": "stdout",
     "output_type": "stream",
     "text": [
      "[2, 4, 2, 222, 4, 4, 66, 4, 8, 22, 44, 66, 88] even\n",
      "[3, 555, 7, 9, 1, 11, 43] odd\n"
     ]
    }
   ],
   "source": [
    "#find even no and odd.\n",
    "a=[2,3,4,2,222,4,4,555,66,4,7,8,9,1,11,22,44,66,88,43]\n",
    "b=[]\n",
    "c=[]\n",
    "for i in a:\n",
    "    if i%2==0:\n",
    "        b.append(i)\n",
    "    else:\n",
    "        c.append(i)\n",
    "printb(,'even')\n",
    "print(c,'odd')"
   ]
  },
  {
   "cell_type": "code",
   "execution_count": 28,
   "id": "19d7f969",
   "metadata": {},
   "outputs": [
    {
     "name": "stdout",
     "output_type": "stream",
     "text": [
      "[3, 555, 7, 9, 1, 11, 43]\n"
     ]
    }
   ],
   "source": [
    "#find odd no\n",
    "a=[2,3,4,2,222,4,4,555,66,4,7,8,9,1,11,22,44,66,88,43]\n",
    "b=[]\n",
    "for i in a:\n",
    "    if i%2!=0:\n",
    "        b.append(i)\n",
    "print(b)"
   ]
  },
  {
   "cell_type": "code",
   "execution_count": 37,
   "id": "a46ff106",
   "metadata": {},
   "outputs": [
    {
     "name": "stdout",
     "output_type": "stream",
     "text": [
      "[2, 4, 2, 222, 4, 4, 66, 4, 8, 22, 44, 66, 88]\n"
     ]
    }
   ],
   "source": [
    "#find even no\n",
    "a=[2,3,4,2,222,4,4,555,66,4,7,8,9,1,11,22,44,66,88,43]\n",
    "b=[]\n",
    "for i in a:\n",
    "    if i%2==0:\n",
    "        b.append(i)\n",
    "print(b)"
   ]
  },
  {
   "cell_type": "raw",
   "id": "c4cd009e",
   "metadata": {},
   "source": [
    "1. Palindrom (start with first or last same word)\n",
    "2. factorial\n",
    "3. fabonaqib"
   ]
  },
  {
   "cell_type": "code",
   "execution_count": 54,
   "id": "2d89f173",
   "metadata": {},
   "outputs": [
    {
     "name": "stdout",
     "output_type": "stream",
     "text": [
      "enter the value karan\n",
      "not palidrom\n"
     ]
    }
   ],
   "source": [
    "a=input('enter the value ')\n",
    "if a[0:]==a[::-1]:\n",
    "    print('palidrom')\n",
    "else:\n",
    "    print('not palidrom')"
   ]
  },
  {
   "cell_type": "code",
   "execution_count": 2,
   "id": "f775b4b3",
   "metadata": {},
   "outputs": [
    {
     "name": "stdout",
     "output_type": "stream",
     "text": [
      "enter the value MadaM\n",
      "palidrom\n"
     ]
    }
   ],
   "source": [
    "a=input('enter the value ')\n",
    "if a[0:]==a[::-1]:\n",
    "    print('palidrom')\n",
    "else:\n",
    "    print('not palidrom')\n"
   ]
  },
  {
   "cell_type": "code",
   "execution_count": 7,
   "id": "83879ecb",
   "metadata": {},
   "outputs": [
    {
     "name": "stdout",
     "output_type": "stream",
     "text": [
      "enter the value madam\n",
      "c\n",
      "palidrom\n"
     ]
    }
   ],
   "source": [
    "a=input('enter the value ')\n",
    "c=''\n",
    "for i in range(len(a)-1,-1,-1):\n",
    "    c=c+a[i]\n",
    "if c==a:\n",
    "    print('palidrom')\n",
    "else:\n",
    "    print('not palidrom')"
   ]
  },
  {
   "cell_type": "code",
   "execution_count": 10,
   "id": "bbfe38f5",
   "metadata": {},
   "outputs": [
    {
     "name": "stdout",
     "output_type": "stream",
     "text": [
      "enter the value 5\n",
      "120\n"
     ]
    }
   ],
   "source": [
    "a=int(input('enter the value '))\n",
    "f=1\n",
    "for i in range(1,a+1):\n",
    "    f=f*i\n",
    "print(f)"
   ]
  },
  {
   "cell_type": "code",
   "execution_count": 11,
   "id": "6f174a1c",
   "metadata": {},
   "outputs": [],
   "source": [
    "#fabonaqib\n",
    "#0,1,1,2,3,5,8,13,21,34--------"
   ]
  },
  {
   "cell_type": "code",
   "execution_count": 14,
   "id": "8d8550c9",
   "metadata": {},
   "outputs": [
    {
     "name": "stdout",
     "output_type": "stream",
     "text": [
      "enter the value 5\n",
      "[0, 1, 1, 2, 3]\n"
     ]
    }
   ],
   "source": [
    "a=[0,1]\n",
    "c=int(input('enter the value '))\n",
    "for i in range(c-2):\n",
    "    c=a[-1]+a[-2]\n",
    "    a.append(c)\n",
    "print(a) "
   ]
  },
  {
   "cell_type": "code",
   "execution_count": 15,
   "id": "4b9ddc9d",
   "metadata": {},
   "outputs": [],
   "source": [
    "#Mean , Mode , meadium "
   ]
  },
  {
   "cell_type": "code",
   "execution_count": 4,
   "id": "5f826991",
   "metadata": {},
   "outputs": [
    {
     "name": "stdout",
     "output_type": "stream",
     "text": [
      "79\n",
      "6.076923076923077\n"
     ]
    }
   ],
   "source": [
    "# Mean\n",
    "a=[2,3,4,5,6,7,7,8,8,9,9,6,5]\n",
    "b=0\n",
    "for i in (a):\n",
    "    b=b+i\n",
    "print(b)\n",
    "print(b/len(a))"
   ]
  },
  {
   "cell_type": "code",
   "execution_count": 5,
   "id": "f1603470",
   "metadata": {},
   "outputs": [
    {
     "name": "stdout",
     "output_type": "stream",
     "text": [
      "6\n"
     ]
    }
   ],
   "source": [
    "#median \n",
    "a=[2,3,4,5,6,7,7,8,8,9,9,6,5]\n",
    "a.sort()\n",
    "for i in range(len(a)):\n",
    "    if len(a)%2==0:\n",
    "        c=a[len(a)//2]\n",
    "        d=a[len(a)//2-1]\n",
    "        e=(c+d)/2\n",
    "    else:\n",
    "        e=a[len(a)//2]\n",
    "print(e)    "
   ]
  },
  {
   "cell_type": "code",
   "execution_count": 13,
   "id": "ae391784",
   "metadata": {},
   "outputs": [
    {
     "name": "stdout",
     "output_type": "stream",
     "text": [
      "2\n"
     ]
    }
   ],
   "source": [
    "a=[2,3,4,3,2,3,4,3,2,3,4,5,6,7,1,2,3,2,2,2,5,6]\n",
    "c=0\n",
    "for i in a:\n",
    "    e=a.count(i)\n",
    "    if e>c:\n",
    "        c=e\n",
    "        d=i\n",
    "    else:\n",
    "        pass\n",
    "print(d)"
   ]
  },
  {
   "cell_type": "code",
   "execution_count": 31,
   "id": "9a130c0c",
   "metadata": {},
   "outputs": [
    {
     "name": "stdout",
     "output_type": "stream",
     "text": [
      "*\n",
      "**\n",
      "***\n",
      "****\n",
      "*****\n",
      "******\n"
     ]
    }
   ],
   "source": [
    "for i in range (1,7):\n",
    "    print('*'*i)"
   ]
  },
  {
   "cell_type": "code",
   "execution_count": 38,
   "id": "3ea240d4",
   "metadata": {},
   "outputs": [
    {
     "name": "stdout",
     "output_type": "stream",
     "text": [
      "*******\n",
      "******\n",
      "*****\n",
      "****\n",
      "***\n",
      "**\n",
      "*\n"
     ]
    }
   ],
   "source": [
    "for i in range(7,0,-1):\n",
    "    print('*'*i)"
   ]
  },
  {
   "cell_type": "code",
   "execution_count": 3,
   "id": "b8270745",
   "metadata": {},
   "outputs": [
    {
     "name": "stdout",
     "output_type": "stream",
     "text": [
      "Hi  Hello\n"
     ]
    }
   ],
   "source": [
    "print('Hi',end='  ')\n",
    "print('Hello')"
   ]
  },
  {
   "cell_type": "code",
   "execution_count": 28,
   "id": "dd8f30cf",
   "metadata": {},
   "outputs": [
    {
     "name": "stdout",
     "output_type": "stream",
     "text": [
      "  * * *   \n",
      "*       * \n",
      "*       * \n",
      "* * * * * \n",
      "*       * \n",
      "*       * \n",
      "*       * \n"
     ]
    }
   ],
   "source": [
    "for row in range(7):\n",
    "    for col in range(5):\n",
    "        if((col==0 or col==4) and row!=0) or ((row==0 or row==3) and (col>0 and col<4)):\n",
    "            print('*', end=' ')\n",
    "        else:\n",
    "            print(' ',end=' ')\n",
    "    \n",
    "    print() \n",
    "    "
   ]
  },
  {
   "cell_type": "code",
   "execution_count": 55,
   "id": "ecf50c7e",
   "metadata": {},
   "outputs": [
    {
     "name": "stdout",
     "output_type": "stream",
     "text": [
      "  * * *   \n",
      "*         \n",
      "*         \n",
      "*         \n",
      "*         \n",
      "*         \n",
      "  * * *   \n"
     ]
    }
   ],
   "source": [
    "for row in range(7):\n",
    "    for col in range(5):\n",
    "        if((col==0 and row!=0 and row!=6) or ((col==4 and (row!=0 and row!=6 and row!=3 and row!=2 and row!=1 and row!=4 and row!=5)))) or ((row==0 or row==6) and (col>0 and col<4)):\n",
    "            print('*', end=' ')\n",
    "        else:\n",
    "            print(' ',end=' ')\n",
    "    \n",
    "    print() # last me combind karti hai\n",
    "    "
   ]
  },
  {
   "cell_type": "code",
   "execution_count": 57,
   "id": "2fb91073",
   "metadata": {},
   "outputs": [
    {
     "name": "stdout",
     "output_type": "stream",
     "text": [
      "* * * *   \n",
      "*       * \n",
      "*       * \n",
      "* * * *   \n",
      "*       * \n",
      "*       * \n",
      "* * * *   \n"
     ]
    }
   ],
   "source": [
    "for row in range(7):\n",
    "    for col in range(5):\n",
    "        if((col==0) or ((col==4 and (row!=0 and row!=6 and row!=3)))) or ((row==0 or row==6 or row==3) and (col>0 and col<4)):\n",
    "            print('*', end=' ')\n",
    "        else:\n",
    "            print(' ',end=' ')\n",
    "    \n",
    "    print() # last me combind karti hai"
   ]
  },
  {
   "cell_type": "code",
   "execution_count": 60,
   "id": "44f205c4",
   "metadata": {},
   "outputs": [
    {
     "name": "stdout",
     "output_type": "stream",
     "text": [
      "* * * *   \n",
      "*       * \n",
      "*       * \n",
      "*       * \n",
      "*       * \n",
      "*       * \n",
      "* * * *   \n"
     ]
    }
   ],
   "source": [
    "for row in range(7):\n",
    "    for col in range(5):\n",
    "        if((col==0) or ((col==4 and (row!=0 and row!=6)))) or ((row==0 or row==6) and (col>0 and col<4)):\n",
    "            print('*', end=' ')\n",
    "        else:\n",
    "            print(' ',end=' ')\n",
    "    \n",
    "    print() # last me combind karti hai"
   ]
  },
  {
   "cell_type": "code",
   "execution_count": null,
   "id": "fac4a724",
   "metadata": {},
   "outputs": [],
   "source": []
  }
 ],
 "metadata": {
  "kernelspec": {
   "display_name": "Python 3",
   "language": "python",
   "name": "python3"
  },
  "language_info": {
   "codemirror_mode": {
    "name": "ipython",
    "version": 3
   },
   "file_extension": ".py",
   "mimetype": "text/x-python",
   "name": "python",
   "nbconvert_exporter": "python",
   "pygments_lexer": "ipython3",
   "version": "3.8.8"
  }
 },
 "nbformat": 4,
 "nbformat_minor": 5
}
