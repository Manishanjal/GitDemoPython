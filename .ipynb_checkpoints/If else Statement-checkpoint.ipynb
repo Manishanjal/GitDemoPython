{
 "cells": [
  {
   "cell_type": "markdown",
   "id": "e92dbda0",
   "metadata": {},
   "source": [
    "# if else statement"
   ]
  },
  {
   "cell_type": "raw",
   "id": "6b85c42d",
   "metadata": {},
   "source": [
    "if condition:\n",
    "    print()"
   ]
  },
  {
   "cell_type": "code",
   "execution_count": 5,
   "id": "f6773160",
   "metadata": {},
   "outputs": [
    {
     "name": "stdout",
     "output_type": "stream",
     "text": [
      "Welcome\n"
     ]
    }
   ],
   "source": [
    "if True:\n",
    "    print('Welcome')"
   ]
  },
  {
   "cell_type": "code",
   "execution_count": 6,
   "id": "6196dc94",
   "metadata": {},
   "outputs": [],
   "source": [
    "if False:\n",
    "    print('Hello')"
   ]
  },
  {
   "cell_type": "code",
   "execution_count": 7,
   "id": "dea8d733",
   "metadata": {},
   "outputs": [
    {
     "name": "stdout",
     "output_type": "stream",
     "text": [
      "pass\n"
     ]
    }
   ],
   "source": [
    "if True:\n",
    "    print('pass')\n",
    "else:\n",
    "    print('fail')"
   ]
  },
  {
   "cell_type": "code",
   "execution_count": 8,
   "id": "fb0d82d7",
   "metadata": {},
   "outputs": [
    {
     "name": "stdout",
     "output_type": "stream",
     "text": [
      "fail\n"
     ]
    }
   ],
   "source": [
    "if False:\n",
    "    print('pass')\n",
    "else:\n",
    "    print('fail')"
   ]
  },
  {
   "cell_type": "code",
   "execution_count": 9,
   "id": "367eae41",
   "metadata": {},
   "outputs": [
    {
     "name": "stdout",
     "output_type": "stream",
     "text": [
      "true\n"
     ]
    }
   ],
   "source": [
    "if 5>4:\n",
    "    print('true')\n",
    "else:\n",
    "    print('false')\n",
    "    "
   ]
  },
  {
   "cell_type": "code",
   "execution_count": 14,
   "id": "458d9519",
   "metadata": {},
   "outputs": [
    {
     "name": "stdout",
     "output_type": "stream",
     "text": [
      "enter your marks 50\n",
      "Pass\n"
     ]
    }
   ],
   "source": [
    "a=int(input('enter your marks '))\n",
    "if a>=50:\n",
    "    print('Pass')\n",
    "else:\n",
    "    print('fail')"
   ]
  },
  {
   "cell_type": "code",
   "execution_count": 20,
   "id": "5c6fb102",
   "metadata": {},
   "outputs": [
    {
     "ename": "SyntaxError",
     "evalue": "invalid syntax (<ipython-input-20-037e6841497a>, line 1)",
     "output_type": "error",
     "traceback": [
      "\u001b[1;36m  File \u001b[1;32m\"<ipython-input-20-037e6841497a>\"\u001b[1;36m, line \u001b[1;32m1\u001b[0m\n\u001b[1;33m    if(a=int(input('enter your marks ')))>50:\u001b[0m\n\u001b[1;37m        ^\u001b[0m\n\u001b[1;31mSyntaxError\u001b[0m\u001b[1;31m:\u001b[0m invalid syntax\n"
     ]
    }
   ],
   "source": [
    "if(a=int(input('enter your marks ')))>50:\n",
    "    print('Pass')\n",
    "else:\n",
    "    print('fail')"
   ]
  },
  {
   "cell_type": "code",
   "execution_count": 16,
   "id": "a96a19ce",
   "metadata": {},
   "outputs": [
    {
     "name": "stdout",
     "output_type": "stream",
     "text": [
      "enter customer name- rohit\n",
      "welcome in the party\n"
     ]
    }
   ],
   "source": [
    "a=input('enter customer name- ')\n",
    "if a=='manish':\n",
    "    print('not allowed in party')\n",
    "else:\n",
    "    print('welcome in the party')"
   ]
  },
  {
   "cell_type": "code",
   "execution_count": 22,
   "id": "74e507d7",
   "metadata": {},
   "outputs": [
    {
     "name": "stdout",
     "output_type": "stream",
     "text": [
      "enter customer name- rohit\n",
      "not allowed\n"
     ]
    }
   ],
   "source": [
    "a=input('enter customer name- ')\n",
    "if a==('manish'or'Harshita'):\n",
    "    print('welcome in the party')\n",
    "else:\n",
    "    print('not allowed')"
   ]
  },
  {
   "cell_type": "code",
   "execution_count": 23,
   "id": "76896bea",
   "metadata": {},
   "outputs": [
    {
     "name": "stdout",
     "output_type": "stream",
     "text": [
      "enter customer name- manish\n",
      "welcome in the party\n"
     ]
    }
   ],
   "source": [
    "a=input('enter customer name- ')\n",
    "if a=='manish'or a=='Harshita':\n",
    "    print('welcome in the party')\n",
    "else:\n",
    "    print('not allowed')"
   ]
  },
  {
   "cell_type": "code",
   "execution_count": 25,
   "id": "e41b647c",
   "metadata": {},
   "outputs": [
    {
     "name": "stdout",
     "output_type": "stream",
     "text": [
      "enter customer name- rohit\n"
     ]
    },
    {
     "ename": "TypeError",
     "evalue": "unsupported operand type(s) for |: 'str' and 'str'",
     "output_type": "error",
     "traceback": [
      "\u001b[1;31m---------------------------------------------------------------------------\u001b[0m",
      "\u001b[1;31mTypeError\u001b[0m                                 Traceback (most recent call last)",
      "\u001b[1;32m<ipython-input-25-6d4ebdb4e5db>\u001b[0m in \u001b[0;36m<module>\u001b[1;34m\u001b[0m\n\u001b[0;32m      1\u001b[0m \u001b[0ma\u001b[0m\u001b[1;33m=\u001b[0m\u001b[0minput\u001b[0m\u001b[1;33m(\u001b[0m\u001b[1;34m'enter customer name- '\u001b[0m\u001b[1;33m)\u001b[0m\u001b[1;33m\u001b[0m\u001b[1;33m\u001b[0m\u001b[0m\n\u001b[1;32m----> 2\u001b[1;33m \u001b[1;32mif\u001b[0m \u001b[0ma\u001b[0m\u001b[1;33m==\u001b[0m\u001b[1;34m'manish'\u001b[0m\u001b[1;33m|\u001b[0m \u001b[0ma\u001b[0m\u001b[1;33m==\u001b[0m\u001b[1;34m'Harshita'\u001b[0m\u001b[1;33m:\u001b[0m\u001b[1;33m\u001b[0m\u001b[1;33m\u001b[0m\u001b[0m\n\u001b[0m\u001b[0;32m      3\u001b[0m     \u001b[0mprint\u001b[0m\u001b[1;33m(\u001b[0m\u001b[1;34m'welcome in the party'\u001b[0m\u001b[1;33m)\u001b[0m\u001b[1;33m\u001b[0m\u001b[1;33m\u001b[0m\u001b[0m\n\u001b[0;32m      4\u001b[0m \u001b[1;32melse\u001b[0m\u001b[1;33m:\u001b[0m\u001b[1;33m\u001b[0m\u001b[1;33m\u001b[0m\u001b[0m\n\u001b[0;32m      5\u001b[0m     \u001b[0mprint\u001b[0m\u001b[1;33m(\u001b[0m\u001b[1;34m'not allowed'\u001b[0m\u001b[1;33m)\u001b[0m\u001b[1;33m\u001b[0m\u001b[1;33m\u001b[0m\u001b[0m\n",
      "\u001b[1;31mTypeError\u001b[0m: unsupported operand type(s) for |: 'str' and 'str'"
     ]
    }
   ],
   "source": [
    "a=input('enter customer name- ')\n",
    "if a=='manish'| a=='Harshita':\n",
    "    print('welcome in the party')\n",
    "else:\n",
    "    print('not allowed')"
   ]
  },
  {
   "cell_type": "code",
   "execution_count": 24,
   "id": "ffe55d5f",
   "metadata": {},
   "outputs": [
    {
     "name": "stdout",
     "output_type": "stream",
     "text": [
      "enter customer name- mukul\n",
      "not allowed\n"
     ]
    }
   ],
   "source": [
    "a=input('enter customer name- ')\n",
    "if (a=='manish') | (a=='Harshita'):\n",
    "    print('welcome in the party')\n",
    "else:\n",
    "    print('not allowed')"
   ]
  },
  {
   "cell_type": "code",
   "execution_count": 31,
   "id": "77175b61",
   "metadata": {},
   "outputs": [
    {
     "name": "stdout",
     "output_type": "stream",
     "text": [
      "enter customer name- harshita\n",
      "age of customer- 21\n",
      "welcome in the party\n"
     ]
    }
   ],
   "source": [
    "a=input('enter customer name- ')\n",
    "b=int(input('age of customer- '))\n",
    "if ((a=='manish')&(b>=18)) or ((a=='harshita')&(b>=18)):\n",
    "    print('welcome in the party')                               # &  and Or is best\n",
    "else:\n",
    "    print('not allowed')\n"
   ]
  },
  {
   "cell_type": "code",
   "execution_count": 33,
   "id": "9c3d6b10",
   "metadata": {},
   "outputs": [
    {
     "name": "stdout",
     "output_type": "stream",
     "text": [
      "enter customer name- harshita\n",
      "age of customer- 18\n",
      "welcome in the party\n"
     ]
    }
   ],
   "source": [
    "a=input('enter customer name- ')\n",
    "b=int(input('age of customer- '))\n",
    "if (a=='manish' and b>=18) or (a=='harshita' and b>=18):\n",
    "    print('welcome in the party')                               \n",
    "else:\n",
    "    print('not allowed')"
   ]
  },
  {
   "cell_type": "code",
   "execution_count": 3,
   "id": "6baf4bd5",
   "metadata": {},
   "outputs": [
    {
     "name": "stdout",
     "output_type": "stream",
     "text": [
      "enter student marks- 45\n",
      "pass\n"
     ]
    }
   ],
   "source": [
    "#if marks bt 0 to 20 and more than 30 then pass and if in bt 20 to 30 fail\n",
    "a=int(input('enter student marks- '))\n",
    "if a<30 and a>20:\n",
    "    print('fail')                               \n",
    "else:\n",
    "    print('pass')"
   ]
  },
  {
   "cell_type": "code",
   "execution_count": 2,
   "id": "d3254cc5",
   "metadata": {},
   "outputs": [
    {
     "name": "stdout",
     "output_type": "stream",
     "text": [
      "enter student marks- 30\n",
      "Pass\n"
     ]
    }
   ],
   "source": [
    "# best way to write a program\n",
    "a=int(input('enter student marks- '))\n",
    "if a>=30 or a<=20:\n",
    "    print('Pass')                               \n",
    "else:\n",
    "    print('Fail')"
   ]
  },
  {
   "cell_type": "code",
   "execution_count": 5,
   "id": "15fca2e8",
   "metadata": {},
   "outputs": [
    {
     "name": "stdout",
     "output_type": "stream",
     "text": [
      "enter first name- y\n",
      "enter last name- f\n",
      "enter mother name- f\n",
      "enter father name- f\n",
      "enter occup- d\n",
      "enter father occup- d\n",
      "enter mother occup- d\n",
      "enter age - 5\n",
      "enter marraige status- t\n",
      "enter mail id- t\n",
      "enter contact no- 5\n",
      "enter pin code- 6\n",
      "not allowed\n"
     ]
    }
   ],
   "source": [
    "#if below three details is matched then allowed to welcome in party\n",
    "a=input('enter first name- ')\n",
    "b=input('enter last name- ')\n",
    "c=input('enter mother name- ')\n",
    "d=input('enter father name- ')\n",
    "e=input('enter occup- ')\n",
    "f=input('enter father occup- ')\n",
    "g=input('enter mother occup- ')\n",
    "h=int(input('enter age - '))\n",
    "i=input('enter marraige status- ')\n",
    "j=input('enter mail id- ')\n",
    "k=int(input('enter contact no- '))\n",
    "l=int(input('enter pin code- '))\n",
    "if(a=='manish' and b=='kumar' and c=='manju' and d=='dharmendra' and e=='job' and f=='farmer' and g=='housewife' and h==26 and i=='single' and j=='manishanjali11' and k==8639949419 and l==800009)\\\n",
    "or (a=='shanti' and b=='kumari' and c=='manjula' and d=='dharmendra singh' and e=='private job' and f=='farmerbyes' and g=='housewifeyes' and h==27 and i=='singley' and j=='manishanjali11@' and k==86399494191 and l==8000090)\\\n",
    "or (a=='manish1' and b=='kumar1' and c=='manju1' and d=='dharmendra1' and e=='job1' and f=='farmer1' and g=='housewife1' and h==261 and i=='single1' and j=='manishanjali111' and k==863994941911 and l==80000911):\n",
    "    print('welcome to the family')\n",
    "else:\n",
    "    print('not allowed')    "
   ]
  },
  {
   "cell_type": "markdown",
   "id": "73b31d24",
   "metadata": {},
   "source": [
    "#\\ (backward slash for next line code writing)"
   ]
  },
  {
   "cell_type": "code",
   "execution_count": null,
   "id": "24b1aec7",
   "metadata": {},
   "outputs": [],
   "source": []
  }
 ],
 "metadata": {
  "kernelspec": {
   "display_name": "Python 3",
   "language": "python",
   "name": "python3"
  },
  "language_info": {
   "codemirror_mode": {
    "name": "ipython",
    "version": 3
   },
   "file_extension": ".py",
   "mimetype": "text/x-python",
   "name": "python",
   "nbconvert_exporter": "python",
   "pygments_lexer": "ipython3",
   "version": "3.8.8"
  }
 },
 "nbformat": 4,
 "nbformat_minor": 5
}
