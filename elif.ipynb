{
 "cells": [
  {
   "cell_type": "markdown",
   "id": "c8aa3505",
   "metadata": {},
   "source": [
    "# Elif statement"
   ]
  },
  {
   "cell_type": "code",
   "execution_count": 2,
   "id": "b3d0cf03",
   "metadata": {},
   "outputs": [
    {
     "name": "stdout",
     "output_type": "stream",
     "text": [
      "enter the marks - 66\n",
      "pass\n"
     ]
    }
   ],
   "source": [
    "a=int(input('enter the marks - '))\n",
    "if a>=50:\n",
    "    print('pass')\n",
    "else:\n",
    "    print('fail')  "
   ]
  },
  {
   "cell_type": "code",
   "execution_count": 5,
   "id": "66b3abb4",
   "metadata": {},
   "outputs": [
    {
     "name": "stdout",
     "output_type": "stream",
     "text": [
      "enter the marks - 85\n",
      "B+\n"
     ]
    }
   ],
   "source": [
    "a=int(input('enter the marks - '))\n",
    "if a>=90:\n",
    "    print('A+')\n",
    "elif a>=80:\n",
    "    print('B+')\n",
    "elif a>=70:\n",
    "    print('c+')\n",
    "elif a>=60:\n",
    "    print('D+')\n",
    "else:\n",
    "    print('fail')"
   ]
  },
  {
   "cell_type": "code",
   "execution_count": null,
   "id": "f1cef4cb",
   "metadata": {},
   "outputs": [],
   "source": []
  }
 ],
 "metadata": {
  "kernelspec": {
   "display_name": "Python 3",
   "language": "python",
   "name": "python3"
  },
  "language_info": {
   "codemirror_mode": {
    "name": "ipython",
    "version": 3
   },
   "file_extension": ".py",
   "mimetype": "text/x-python",
   "name": "python",
   "nbconvert_exporter": "python",
   "pygments_lexer": "ipython3",
   "version": "3.8.8"
  }
 },
 "nbformat": 4,
 "nbformat_minor": 5
}
