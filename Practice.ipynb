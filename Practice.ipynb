{
 "cells": [
  {
   "cell_type": "code",
   "execution_count": 1,
   "id": "d1027c57",
   "metadata": {},
   "outputs": [
    {
     "ename": "SyntaxError",
     "evalue": "invalid syntax (<ipython-input-1-037e6841497a>, line 1)",
     "output_type": "error",
     "traceback": [
      "\u001b[1;36m  File \u001b[1;32m\"<ipython-input-1-037e6841497a>\"\u001b[1;36m, line \u001b[1;32m1\u001b[0m\n\u001b[1;33m    if(a=int(input('enter your marks ')))>50:\u001b[0m\n\u001b[1;37m        ^\u001b[0m\n\u001b[1;31mSyntaxError\u001b[0m\u001b[1;31m:\u001b[0m invalid syntax\n"
     ]
    }
   ],
   "source": [
    "if(a=int(input('enter your marks ')))>50:\n",
    "    print('Pass')\n",
    "else:\n",
    "    print('fail')"
   ]
  },
  {
   "cell_type": "code",
   "execution_count": 10,
   "id": "b2ba2b5a",
   "metadata": {},
   "outputs": [
    {
     "name": "stdout",
     "output_type": "stream",
     "text": [
      "enter first name- r\n",
      "enter last name- f\n",
      "enter mother name- r\n",
      "enter father name- r\n",
      "enter occup- r\n",
      "enter father occup- r\n",
      "enter mother occup- r\n",
      "enter age - 2\n",
      "enter marraige status- d\n",
      "enter mail id- d\n",
      "enter contact no- 4\n",
      "enter pin code- 4\n",
      "not allowed\n"
     ]
    }
   ],
   "source": [
    "a=input('enter first name- ')\n",
    "b=input('enter last name- ')\n",
    "c=input('enter mother name- ')\n",
    "d=input('enter father name- ')\n",
    "e=input('enter occup- ')\n",
    "f=input('enter father occup- ')\n",
    "g=input('enter mother occup- ')\n",
    "h=int(input('enter age - '))\n",
    "i=input('enter marraige status- ')\n",
    "j=input('enter mail id- ')\n",
    "k=int(input('enter contact no- '))\n",
    "l=int(input('enter pin code- '))\n",
    "if(a=='manish' and b=='kumar' and c=='manju' and d=='dharmendra' and e=='job' and f=='farmer' and g=='housewife' and h==26 and i=='single' and j=='manishanjali11' and k==8639949419 and l==800009) or (a=='shanti' and b=='kumari' and c=='manjula' and d=='dharmendra singh' and e=='private job' and f=='farmerbyes' and g=='housewifeyes' and h==27 and i=='singley' and j=='manishanjali11@' and k==86399494191 and l==8000090) or (a=='manish1' and b=='kumar1' and c=='manju1' and d=='dharmendra1' and e=='job1' and f=='farmer1' and g=='housewife1' and h==261 and i=='single1' and j=='manishanjali111' and k==863994941911 and l==80000911):\n",
    "    print('welcome to the family')\n",
    "else:\n",
    "    print('not allowed')\n"
   ]
  },
  {
   "cell_type": "markdown",
   "id": "32960f88",
   "metadata": {},
   "source": [
    "input a=(1,2,3,4,[5,6,7],8,9)  output  a=(1,2,3,4,[5,7],8,9)"
   ]
  },
  {
   "cell_type": "code",
   "execution_count": 7,
   "id": "6db734c1",
   "metadata": {},
   "outputs": [],
   "source": [
    "a=(1,2,3,4,[5,6,7],8,9)"
   ]
  },
  {
   "cell_type": "code",
   "execution_count": 8,
   "id": "4fb20a3a",
   "metadata": {},
   "outputs": [
    {
     "data": {
      "text/plain": [
       "(1, 2, 3, 4, [5, 6, 7], 8, 9)"
      ]
     },
     "execution_count": 8,
     "metadata": {},
     "output_type": "execute_result"
    }
   ],
   "source": [
    "a"
   ]
  },
  {
   "cell_type": "code",
   "execution_count": 9,
   "id": "d2dc5a09",
   "metadata": {},
   "outputs": [],
   "source": [
    "a[4].remove(6)"
   ]
  },
  {
   "cell_type": "code",
   "execution_count": 10,
   "id": "08c78ed1",
   "metadata": {},
   "outputs": [
    {
     "data": {
      "text/plain": [
       "(1, 2, 3, 4, [5, 7], 8, 9)"
      ]
     },
     "execution_count": 10,
     "metadata": {},
     "output_type": "execute_result"
    }
   ],
   "source": [
    "a"
   ]
  },
  {
   "cell_type": "code",
   "execution_count": 1,
   "id": "25eb7495",
   "metadata": {},
   "outputs": [],
   "source": [
    "# input \n",
    "#a=[1,2,3,4]\n",
    "#b=[5,6,7,8]\n",
    "#output=[6,8,10,12]"
   ]
  },
  {
   "cell_type": "code",
   "execution_count": 1,
   "id": "0f74d625",
   "metadata": {},
   "outputs": [
    {
     "name": "stdout",
     "output_type": "stream",
     "text": [
      "[6, 8, 10, 12]\n"
     ]
    }
   ],
   "source": [
    "a=[1,2,3,4]\n",
    "b=[5,6,7,8]\n",
    "d=[]\n",
    "for i in range(len(a)):\n",
    "    c=(a[i]+b[i])\n",
    "    d.append(c)\n",
    "print(d)"
   ]
  },
  {
   "cell_type": "code",
   "execution_count": 12,
   "id": "59cfaaa6",
   "metadata": {},
   "outputs": [
    {
     "name": "stdout",
     "output_type": "stream",
     "text": [
      "enter the total number of observations--6\n",
      "enter the value --2\n",
      "enter the value --4\n",
      "enter the value --7\n",
      "enter the value --8\n",
      "enter the value --4\n",
      "enter the value --7\n",
      "4\n"
     ]
    }
   ],
   "source": [
    "a=[]\n",
    "c=int(input('enter the total number of observations--'))\n",
    "for i in range(c):\n",
    "    b=int(input('enter the value --'))\n",
    "    a.append(b)\n",
    "print((max(set(a), key = a.count)))      "
   ]
  },
  {
   "cell_type": "markdown",
   "id": "b8c73180",
   "metadata": {},
   "source": [
    "###### random=[]\n",
    "numbers = []\n",
    "limit = int(input(\"Please enter how many numbers you would like to compare:\\n\"))\n",
    "mode =0\n",
    "for i in range(0,limit):\n",
    "    numbers.append(random.randint(1,10))\n",
    "\n",
    "maxiumNum = max(numbers)\n",
    "j = maxiumNum + 1\n",
    "count = [0]*j\n",
    "for i in range(j):\n",
    "    count[i]=0\n",
    "\n",
    "for i in range(limit):\n",
    "    count[numbers[i]] +=1\n",
    "\n",
    "n = count[0] \n",
    "for i in range(1, j):\n",
    "    if (count[i] > n):\n",
    "        n = count[i] \n",
    "        mode = i  \n",
    "\n",
    "print(\"This is the mode = \"+str(mode))\n",
    "print(\"This is the array = \"+str(numbers))\n"
   ]
  },
  {
   "cell_type": "code",
   "execution_count": null,
   "id": "f7912c6a",
   "metadata": {},
   "outputs": [],
   "source": []
  }
 ],
 "metadata": {
  "kernelspec": {
   "display_name": "Python 3",
   "language": "python",
   "name": "python3"
  },
  "language_info": {
   "codemirror_mode": {
    "name": "ipython",
    "version": 3
   },
   "file_extension": ".py",
   "mimetype": "text/x-python",
   "name": "python",
   "nbconvert_exporter": "python",
   "pygments_lexer": "ipython3",
   "version": "3.8.8"
  }
 },
 "nbformat": 4,
 "nbformat_minor": 5
}
