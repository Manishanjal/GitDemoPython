{
 "cells": [
  {
   "cell_type": "markdown",
   "id": "8b5fec1f",
   "metadata": {},
   "source": [
    "# Set"
   ]
  },
  {
   "cell_type": "markdown",
   "id": "809f0bf4",
   "metadata": {},
   "source": [
    "A set is collection which is unordered and unindexed. in python set are written with curly brackets"
   ]
  },
  {
   "cell_type": "code",
   "execution_count": 1,
   "id": "11ed91c7",
   "metadata": {},
   "outputs": [],
   "source": [
    "a={1,3,5,7,4,6,8,4,6,2}"
   ]
  },
  {
   "cell_type": "code",
   "execution_count": 2,
   "id": "36f1c737",
   "metadata": {},
   "outputs": [
    {
     "data": {
      "text/plain": [
       "{1, 2, 3, 4, 5, 6, 7, 8}"
      ]
     },
     "execution_count": 2,
     "metadata": {},
     "output_type": "execute_result"
    }
   ],
   "source": [
    "a"
   ]
  },
  {
   "cell_type": "code",
   "execution_count": 3,
   "id": "2263301b",
   "metadata": {},
   "outputs": [
    {
     "data": {
      "text/plain": [
       "set"
      ]
     },
     "execution_count": 3,
     "metadata": {},
     "output_type": "execute_result"
    }
   ],
   "source": [
    "type(a)"
   ]
  },
  {
   "cell_type": "code",
   "execution_count": 4,
   "id": "3152eb8e",
   "metadata": {},
   "outputs": [],
   "source": [
    "a={1,3,4,6,7,89,3,5,6,3,2,4,5,7,5,2,3,2,5,7,8,8}"
   ]
  },
  {
   "cell_type": "code",
   "execution_count": 5,
   "id": "7d200228",
   "metadata": {},
   "outputs": [
    {
     "data": {
      "text/plain": [
       "{1, 2, 3, 4, 5, 6, 7, 8, 89}"
      ]
     },
     "execution_count": 5,
     "metadata": {},
     "output_type": "execute_result"
    }
   ],
   "source": [
    "a"
   ]
  },
  {
   "cell_type": "code",
   "execution_count": 6,
   "id": "d6dcca7d",
   "metadata": {},
   "outputs": [],
   "source": [
    "a.add(11)"
   ]
  },
  {
   "cell_type": "code",
   "execution_count": 7,
   "id": "376fd315",
   "metadata": {},
   "outputs": [
    {
     "data": {
      "text/plain": [
       "{1, 2, 3, 4, 5, 6, 7, 8, 11, 89}"
      ]
     },
     "execution_count": 7,
     "metadata": {},
     "output_type": "execute_result"
    }
   ],
   "source": [
    "a"
   ]
  },
  {
   "cell_type": "code",
   "execution_count": 9,
   "id": "3b02c424",
   "metadata": {},
   "outputs": [],
   "source": [
    "a={'a','b',1,3,5,6,9.0,6+7j}"
   ]
  },
  {
   "cell_type": "code",
   "execution_count": 10,
   "id": "701e0350",
   "metadata": {},
   "outputs": [
    {
     "data": {
      "text/plain": [
       "{(6+7j), 1, 3, 5, 6, 9.0, 'a', 'b'}"
      ]
     },
     "execution_count": 10,
     "metadata": {},
     "output_type": "execute_result"
    }
   ],
   "source": [
    "a"
   ]
  },
  {
   "cell_type": "markdown",
   "id": "8284d379",
   "metadata": {},
   "source": [
    "Complex>integer>float>str"
   ]
  },
  {
   "cell_type": "code",
   "execution_count": 11,
   "id": "e1a69b38",
   "metadata": {},
   "outputs": [],
   "source": [
    "a.remove(3)"
   ]
  },
  {
   "cell_type": "code",
   "execution_count": 12,
   "id": "46c86a77",
   "metadata": {},
   "outputs": [
    {
     "data": {
      "text/plain": [
       "{(6+7j), 1, 5, 6, 9.0, 'a', 'b'}"
      ]
     },
     "execution_count": 12,
     "metadata": {},
     "output_type": "execute_result"
    }
   ],
   "source": [
    "a"
   ]
  },
  {
   "cell_type": "code",
   "execution_count": 13,
   "id": "b4f9708b",
   "metadata": {},
   "outputs": [
    {
     "ename": "AttributeError",
     "evalue": "'set' object has no attribute 'index'",
     "output_type": "error",
     "traceback": [
      "\u001b[1;31m---------------------------------------------------------------------------\u001b[0m",
      "\u001b[1;31mAttributeError\u001b[0m                            Traceback (most recent call last)",
      "\u001b[1;32m<ipython-input-13-41c35e68540d>\u001b[0m in \u001b[0;36m<module>\u001b[1;34m\u001b[0m\n\u001b[1;32m----> 1\u001b[1;33m \u001b[0ma\u001b[0m\u001b[1;33m.\u001b[0m\u001b[0mindex\u001b[0m\u001b[1;33m(\u001b[0m\u001b[1;33m)\u001b[0m\u001b[1;33m\u001b[0m\u001b[1;33m\u001b[0m\u001b[0m\n\u001b[0m",
      "\u001b[1;31mAttributeError\u001b[0m: 'set' object has no attribute 'index'"
     ]
    }
   ],
   "source": [
    "a.index()"
   ]
  },
  {
   "cell_type": "code",
   "execution_count": null,
   "id": "5e50a7ba",
   "metadata": {},
   "outputs": [],
   "source": []
  }
 ],
 "metadata": {
  "kernelspec": {
   "display_name": "Python 3",
   "language": "python",
   "name": "python3"
  },
  "language_info": {
   "codemirror_mode": {
    "name": "ipython",
    "version": 3
   },
   "file_extension": ".py",
   "mimetype": "text/x-python",
   "name": "python",
   "nbconvert_exporter": "python",
   "pygments_lexer": "ipython3",
   "version": "3.8.8"
  }
 },
 "nbformat": 4,
 "nbformat_minor": 5
}
